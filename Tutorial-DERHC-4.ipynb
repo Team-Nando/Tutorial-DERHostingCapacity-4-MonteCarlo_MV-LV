{
 "cells": [
  {
   "cell_type": "markdown",
   "metadata": {},
   "source": [
    "# Tutorial on DER Hosting Capacity | <font color=red>Part 4</font>: Monte Carlo Assessment of PV Hosting Capacity of an Integrated MV-LV Network"
   ]
  },
  {
   "cell_type": "markdown",
   "metadata": {},
   "source": [
    "## Introduction\n",
    "This tutorial is aimed to help those who wish to do a Monte Carlo analysis of a MV-LV Network in OpenDSS using Python. Here, you will analyse an Australian MV-LV network. The network is called CRE21, and it is an Urban network with 79 distribution transformers. The network supplies electricity to 3300+ houses. \n",
    "\n",
    "The network configuration is given in figure 1. The triangle is the 66/22 kV transformer and each circle represents a distribution transformer. "
   ]
  },
  {
   "cell_type": "markdown",
   "metadata": {},
   "source": [
    "<img style=\"float: middle;\" src=\"Network_CRE21.png\">"
   ]
  },
  {
   "cell_type": "markdown",
   "metadata": {},
   "source": [
    "**<center>Figure 1. The CRE21 Network Configuration</center>**"
   ]
  },
  {
   "cell_type": "markdown",
   "metadata": {},
   "source": [
    "# Initialization\n",
    "Here, the first steps related to importing the relevant libraries and setting the working environment are given below."
   ]
  },
  {
   "cell_type": "markdown",
   "metadata": {},
   "source": [
    "## Load libraries\n",
    "Run the code below to load the libraries that will be used in this tutorial."
   ]
  },
  {
   "cell_type": "code",
   "execution_count": null,
   "metadata": {
    "ExecuteTime": {
     "end_time": "2020-10-06T13:17:21.299771Z",
     "start_time": "2020-10-06T13:17:20.794330Z"
    }
   },
   "outputs": [],
   "source": [
    "import time\n",
    "from matplotlib import pyplot as plt\n",
    "import random\n",
    "import numpy as np\n",
    "import os"
   ]
  },
  {
   "cell_type": "markdown",
   "metadata": {},
   "source": [
    "## Set the working path\n",
    "Run the following code to set your working path. As an output you get the location in your computer."
   ]
  },
  {
   "cell_type": "code",
   "execution_count": null,
   "metadata": {
    "ExecuteTime": {
     "end_time": "2020-10-06T13:17:21.306759Z",
     "start_time": "2020-10-06T13:17:21.301756Z"
    }
   },
   "outputs": [],
   "source": [
    "mydir =  os.getcwd()\n",
    "print(\"The direction is located in the following path: mydir = %s\\n\" %mydir) "
   ]
  },
  {
   "cell_type": "markdown",
   "metadata": {},
   "source": [
    "## Set up  dss_engine\n",
    "Before running the code, we need to set up the dss_engine.  \n",
    "- Note: For better understanding of the following code, check the **dss_python tutorial** in the Team Tutorial folder."
   ]
  },
  {
   "cell_type": "code",
   "execution_count": null,
   "metadata": {
    "ExecuteTime": {
     "end_time": "2020-10-06T13:17:21.657083Z",
     "start_time": "2020-10-06T13:17:21.309762Z"
    }
   },
   "outputs": [],
   "source": [
    "import dss\n",
    "dss_engine = dss.DSS\n",
    "DSSText = dss_engine.Text                                                      \n",
    "DSSCircuit = dss_engine.ActiveCircuit                                            \n",
    "DSSSolution = dss_engine.ActiveCircuit.Solution                                      \n",
    "ControlQueue = dss_engine.ActiveCircuit.CtrlQueue                                          \n",
    "dss_engine.AllowForms = 0"
   ]
  },
  {
   "cell_type": "markdown",
   "metadata": {},
   "source": [
    "# Network Modelling"
   ]
  },
  {
   "cell_type": "markdown",
   "metadata": {},
   "source": [
    "## Basic definitions\n",
    "Here the values which will be leter used are allocated to corresponding variables. \n",
    "- `Time_Resolution` in minutes. The 30 minute resolution is chosen for this tutorial.\n",
    "- `Num_of_TimeStep`, which is the number of timesteps, based on the Time Resolution used\n",
    "- `Num_of_DisTransformers` is the Number of Distribution Transformers and this value is also fixed\n",
    "- `Num_of_HVlines` is the number of HV lines, \n",
    "- `Inverter_factor`, set and fixed to 1.0,\n",
    "- `Voltage_max`, is the maximum value of the voltage in p.u.,\n",
    "\n",
    "This is done for better understanding of the code, but note that all values used in this tutorial will be constant **i.e., you should NOT change them**."
   ]
  },
  {
   "cell_type": "code",
   "execution_count": null,
   "metadata": {
    "ExecuteTime": {
     "end_time": "2020-10-06T13:17:21.713249Z",
     "start_time": "2020-10-06T13:17:21.659083Z"
    }
   },
   "outputs": [],
   "source": [
    "Time_Resolution = 30 #in minutes\n",
    "Num_of_TimeStep = 48\n",
    "Num_of_DisTransformers = 79\n",
    "Num_of_HVlines = 649\n",
    "Inverter_factor = 1.0\n",
    "Voltage_max = 1.1"
   ]
  },
  {
   "cell_type": "markdown",
   "metadata": {},
   "source": [
    "## Import Load and PV profiles\n",
    "The data used for this tutorial are provided in the folder `/Datasets`. \n",
    "- `House data - 30 mins resolution.npy`: This numpy file contains the 342 demand profiles for residential customers for a whole year in 30-minute intervals\n",
    "- `PV data - 30 mins resolution.npy`: This numpy file contains the PV generation profile for a whole year in 30-minute intervals "
   ]
  },
  {
   "cell_type": "code",
   "execution_count": null,
   "metadata": {
    "ExecuteTime": {
     "end_time": "2020-10-06T13:17:21.904304Z",
     "start_time": "2020-10-06T13:17:21.715234Z"
    }
   },
   "outputs": [],
   "source": [
    "houseDataminutes = np.load(mydir + '//Datasets//House data - 30 mins resolution.npy') \n",
    "pvDataminutes = np.load(mydir + '//Datasets//PV data - 30 mins resolution.npy')  "
   ]
  },
  {
   "cell_type": "markdown",
   "metadata": {},
   "source": [
    "Now that the data has been loaded, let's take a look at the dimensions of the numpy files.  \n",
    "- Note: The format of the house data is `(Customers, Days, Readings)` and the PV profiles' data is `(Days, Readings)` which can be seen by running the code below."
   ]
  },
  {
   "cell_type": "code",
   "execution_count": null,
   "metadata": {
    "ExecuteTime": {
     "end_time": "2020-10-06T13:17:22.026917Z",
     "start_time": "2020-10-06T13:17:21.906290Z"
    }
   },
   "outputs": [],
   "source": [
    "print(\"The shape of the house date is: \",houseDataminutes.shape) \n",
    "print(\"The shape of the PV profiles is: \", pvDataminutes.shape) "
   ]
  },
  {
   "cell_type": "markdown",
   "metadata": {},
   "source": [
    "## Define components\n",
    "The `Master.txt` file, located in the `Network` folder, defines the frequency and base voltages, then it redirects to network components definitions: transformers, lines and loads etc,."
   ]
  },
  {
   "cell_type": "code",
   "execution_count": null,
   "metadata": {
    "ExecuteTime": {
     "end_time": "2020-10-06T13:17:22.495433Z",
     "start_time": "2020-10-06T13:17:22.032922Z"
    }
   },
   "outputs": [],
   "source": [
    "DSSText.Command = 'Clear'   \n",
    "DSSText.Command = 'Compile ' + mydir + '\\\\Network\\\\Master.txt'\n",
    "DSSText.Command = 'Set VoltageBases=[66.0, 22.0, 0.400, 0.2309]'\n",
    "DSSText.Command = 'calcv'  "
   ]
  },
  {
   "cell_type": "markdown",
   "metadata": {},
   "source": [
    "## Install PV systems \n",
    "Here the PV systems are **installed** for every **residential** customer when the command `if phases==1` is executed.  \n",
    "- However, at this step the PV systems are all initialized to zero (`kva=0` and `pmpp=0`) and are not enabled (as it can be seen from the code below, where `enabled=false`)."
   ]
  },
  {
   "cell_type": "code",
   "execution_count": null,
   "metadata": {
    "ExecuteTime": {
     "end_time": "2020-10-06T13:17:22.685538Z",
     "start_time": "2020-10-06T13:17:22.497404Z"
    }
   },
   "outputs": [],
   "source": [
    "Loadname = DSSCircuit.Loads.AllNames\n",
    "for iPV_status in range(len(Loadname)):\n",
    "    DSSCircuit.SetActiveElement('load.' + str(Loadname[iPV_status]))\n",
    "    phases = int(DSSCircuit.ActiveCktElement.Properties('phases').Val)\n",
    "    bus1 = DSSCircuit.ActiveCktElement.Properties('bus1').Val\n",
    "    if phases == 1:\n",
    "        DSSText.Command = 'new PVSystem.PV_' + str(Loadname[iPV_status])\\\n",
    "                        + ' phases=1'  \\\n",
    "                        + ' irradiance=1' \\\n",
    "                        + ' %cutin=0.05' \\\n",
    "                        + ' %cutout=0.05' \\\n",
    "                        + ' vmaxpu=1.5' \\\n",
    "                        + ' vminpu=0.5' \\\n",
    "                        + ' kva=0' \\\n",
    "                        + ' pmpp=0' \\\n",
    "                        + ' bus1=' + str(bus1) \\\n",
    "                        + ' pf=1' \\\n",
    "                        + ' enabled=false' \\\n",
    "                        + ' kv=0.23' \\\n",
    "                        + ' daily=pvshape1'\\\n",
    "                        + ' VarFollowInverter=True'  "
   ]
  },
  {
   "cell_type": "markdown",
   "metadata": {},
   "source": [
    "# Function Definitions\n",
    "**Important:** We highly recommend you first go through [Part.5 Simulation and Results](#004) and come back to this Functions Definitions session for a better understanding of the code structure. Just bear in mind that these sub functions has to be compiled before the main function starts."
   ]
  },
  {
   "cell_type": "markdown",
   "metadata": {},
   "source": [
    "<a id='001'></a>\n",
    "## def  <font color=blue>Function_LoadProfileAllocation()</font>\n",
    "- **Line [4-5]:** `cust` is named in the form of `hv_f0_lv0_f0_c0`, i.e. HVfeeder 0, LVtransformer 0, LVfeeder 0, Customer 0. What we need from the cust name is the LV transformer number, so we split the name to retrieve the information.\n",
    "- **Line [6-11]:** Only for those 3-phase transformers, loads are randomly allocated to different phases(.1/.2/.3). And loads under 1-phase transformer are connected to phase.1 in default.\n",
    "- **Line [13-17]:** This part checks if it is a single phase load, and if yes, assign new `bus1` and `daily` values. Noted that for commercial loads (3-phase), profiles are fixed, not randomly selected."
   ]
  },
  {
   "cell_type": "code",
   "execution_count": null,
   "metadata": {
    "ExecuteTime": {
     "end_time": "2020-10-06T13:17:22.695543Z",
     "start_time": "2020-10-06T13:17:22.687538Z"
    }
   },
   "outputs": [],
   "source": [
    "def Function_LoadProfileAllocation():\n",
    "    np.random.seed(iRandom)\n",
    "    \n",
    "    for icust, cust in enumerate(Loadname):    \n",
    "        \n",
    "        DSSCircuit.SetActiveElement('load.'+ cust) \n",
    "        phases = int(DSSCircuit.ActiveElement.Properties('phases').Val) # phase of load\n",
    "        Cust_ran = np.random.randint(len(houseDataminutes))  \n",
    "        \n",
    "        if phases == 1: # residential load\n",
    "            DSSCircuit.ActiveElement.Properties('daily').Val='Load_shape_' + str(Cust_ran)    \n",
    "        else: # commercial load\n",
    "            cust_split = cust.split('_')\n",
    "            Transformername = cust_split[2]\n",
    "            DSSCircuit.ActiveElement.Properties('daily').Val='Load_shape_Com_' + str(Transformername)"
   ]
  },
  {
   "cell_type": "markdown",
   "metadata": {},
   "source": [
    "<a id='002'></a>\n",
    "## def  <font color=blue>Function_PVAllocation()</font>  \n",
    "Here, inverter control is disabled to improve simulation speed. Please uncomment the inverter part if you want to introduce this feature to your study.\n",
    "- **Line [2]:** ` PVcustomer_number` corresponds to the penetration level.\n",
    "- **Line [3-8]:** `Count` is used to count the PV system has been enabled. `PV_status_dct` records the 'enabled' status of each PV system.\n",
    "- **Line [9-21]:** Each PV system has the same probability to be enabled by using the `if random.random()<...` condition. To make sure the penetration percent is correct, we need to check `Count` after each entire search, and break the loop when it conforms.\n"
   ]
  },
  {
   "cell_type": "code",
   "execution_count": null,
   "metadata": {
    "ExecuteTime": {
     "end_time": "2020-10-06T13:17:22.880496Z",
     "start_time": "2020-10-06T13:17:22.697546Z"
    }
   },
   "outputs": [],
   "source": [
    "def Function_PVAllocation():   \n",
    "    PVcustomer_number=[0, 675, 1350, 2024, 2699, 3374]\n",
    "    if penetration_list[iPenetration] == 0 :\n",
    "        global Count, PV_status_dct\n",
    "        Count = 0\n",
    "        PV_status_dct = []\n",
    "        for iPV_status in range(len(PVname)):\n",
    "            PV_status_dct.append('false')\n",
    "    else:\n",
    "        while Count < PVcustomer_number[iPenetration]:\n",
    "            for iPV_status in range(len(PVname)):\n",
    "                if PV_status_dct[iPV_status] == 'false':\n",
    "                    if random.random() < (penetration_list[iPenetration]-penetration_list[iPenetration-1])/(100-penetration_list[iPenetration-1]):\n",
    "                        PV_status_dct[iPV_status] = 'true'                            \n",
    "                        DSSCircuit.SetActiveElement('PVSystem.' + str(PVname[iPV_status]))\n",
    "                        DSSCircuit.ActiveElement.Properties('kva').Val=str(Inverter_factor * PV_allocation[iPV_status])\n",
    "                        DSSCircuit.ActiveElement.Properties('pmpp').Val=str(PV_allocation[iPV_status])\n",
    "                        DSSCircuit.ActiveElement.Properties('enabled').Val='true'\n",
    "                        Count = Count + 1\n",
    "                        if Count == PVcustomer_number[iPenetration]:\n",
    "                            break \n",
    "                            \n",
    "#        if iRandom == 0:\n",
    "#            DSSText.Command = 'New XYCurve.vw_curve'+ str(iPenetration)+' npts=4 Yarray=(1.0, 1.0, 0.2, 0.2) XArray=(0.5, 1.1, 1.13, 2.0)' \n",
    "#            DSSText.Command = 'New InvControl.InvPVCtrl'  + str(iPenetration) + ' mode=voltwatt voltwatt_curve=vw_curve'+ str(iPenetration) +' DeltaP_factor=0.05'             \n",
    "#            DSSText.Command = 'calcv'\n",
    "#            DSSText.Command = 'set maxcontroliter=1000'\n",
    "#            DSSText.Command = 'set maxiterations=1000'\n",
    "#            DSSText.Command = 'calcvoltagebases'         \n",
    "#            DSSText.Command = 'calcv'"
   ]
  },
  {
   "cell_type": "markdown",
   "metadata": {},
   "source": [
    "<a id='003'></a>\n",
    "## def  <font color=blue>Function_iTimeSimulation()</font>\n",
    "This 24-hour, 30-min resolution `iTimeSimulation` is just same as the one you did in **Deterministic Analysis**, so please refer to that tutorial for detailed explanation on the code.  \n",
    "\n",
    "There is one thing needs highlight:\n",
    "- **Line [140-148]:** After the whole simulation, the results are stored in ` Penetration_results_dct`. There are 8 indices under this dictionary, and they will be used in the Plots. For your convenience, here is a search table.  \n",
    "\n",
    "| Index | Parameter | \n",
    "| :------: | :------ | \n",
    "| 0 | 100*np.amax(np.array(total_HVT)[:,2])/HV_Trans_Capacity |\n",
    "| 1 | np.amax(np.array(DisTrans_Uti_Max)) |\n",
    "| 2 | np.amax(np.array(Line_Utilise_max)) |\n",
    "| 3 | 100*np.amax(np.array(Non_compliance))/len(Loadname) |\n",
    "| 4 | np.sum(PV_Curtail) |\n",
    "| 5 | np.sum(PV_Potential) |\n",
    "| 6 | np.sum(PV_Potential, axis=0) |\n",
    "| 7 | np.sum(PV_P, axis=0) |"
   ]
  },
  {
   "cell_type": "code",
   "execution_count": null,
   "metadata": {
    "ExecuteTime": {
     "end_time": "2020-10-06T13:17:23.088184Z",
     "start_time": "2020-10-06T13:17:22.883496Z"
    },
    "code_folding": []
   },
   "outputs": [],
   "source": [
    "def Function_iTimeSimulation():\n",
    "    for iTime in range(Num_of_TimeStep):\n",
    "        if iTime == 0:\n",
    "            DisTrans_Uti_Max = [] \n",
    "            Line_Utilise_max = []\n",
    "            Non_compliance = []\n",
    "            \n",
    "            NodeName_dct = {}\n",
    "            LVT_dct = {}\n",
    "            LNE_dct = {}\n",
    "            LDE_dct = {}\n",
    "            \n",
    "            LDE_bus1 = []\n",
    "            LDE_bus1_index = []\n",
    "            LDE_bus_main = []\n",
    "\n",
    "            all_loads_voltages = []\n",
    "            \n",
    "            P_HVT = []\n",
    "            Q_HVT = []\n",
    "            S_HVT = []\n",
    "            total_HVT = []   \n",
    "                           \n",
    "            PV_P = []\n",
    "            PV_Q = []\n",
    "            PV_Curtail = []\n",
    "            PV_Potential = []\n",
    "            PV_Curtail_Percent = []       \n",
    "    \n",
    "            all_node_names = DSSCircuit.AllNodeNames\n",
    "            for iNodes in range(len(all_node_names)):\n",
    "                NodeName_dct[all_node_names[iNodes]] = iNodes        \n",
    "            for iTransformer in range(Num_of_DisTransformers):\n",
    "                LVT_dct['LVT_%s' %iTransformer] = []\n",
    "            for iLine in range(Num_of_HVlines):\n",
    "                LNE_dct['LNE_%s' %iLine] = []\n",
    "            for icust in range(len(Loadname)):\n",
    "                LDE_dct[Loadname[icust]] = []\n",
    "                DSSCircuit.SetActiveElement('load.'+Loadname[icust])\n",
    "                phases = int(DSSCircuit.ActiveCktElement.Properties('phases').Val)\n",
    "                bus1 = DSSCircuit.ActiveCktElement.Properties('bus1').Val\n",
    "                LDE_bus_main.append(bus1)\n",
    "                if phases == 1:\n",
    "                    LDE_bus1.append(bus1)\n",
    "                    LDE_bus1_index.append(all_node_names.index(bus1))\n",
    "                elif phases == 3:\n",
    "                    LDE_bus1.append(bus1.strip('.1.2.3')+ '.1')\n",
    "                    LDE_bus1_index.append(all_node_names.index(bus1.strip('.1.2.3')+ '.1'))\n",
    "                    LDE_bus1.append(bus1.strip('.1.2.3')+ '.2')\n",
    "                    LDE_bus1_index.append(all_node_names.index(bus1.strip('.1.2.3')+ '.2'))\n",
    "                    LDE_bus1.append(bus1.strip('.1.2.3')+ '.3')\n",
    "                    LDE_bus1_index.append(all_node_names.index(bus1.strip('.1.2.3')+ '.3'))  \n",
    "\n",
    "        \n",
    "        DSSSolution.Solve()\n",
    "        \n",
    "        \n",
    "        DSSCircuit.SetActiveElement('Transformer.hv_head_tx0')\n",
    "        HV_Trans_Capacity = float(DSSCircuit.ActiveCktElement.Properties('kVAs').Val.strip('[').strip(']').split(',')[0])\n",
    "        P_HVT_temp = (DSSCircuit.ActiveCktElement.Powers[0] + DSSCircuit.ActiveCktElement.Powers[2] + DSSCircuit.ActiveCktElement.Powers[4])\n",
    "        P_HVT.append(P_HVT_temp) \n",
    "        Q_HVT_temp = (DSSCircuit.ActiveCktElement.Powers[1] + DSSCircuit.ActiveCktElement.Powers[3] + DSSCircuit.ActiveCktElement.Powers[5])\n",
    "        Q_HVT.append(Q_HVT_temp)\n",
    "        S_HVT_temp = np.sqrt(P_HVT_temp**2 + Q_HVT_temp**2)\n",
    "        S_HVT.append(S_HVT_temp)\n",
    "        total_HVT.append([P_HVT_temp, Q_HVT_temp, S_HVT_temp])\n",
    "        \n",
    "        \n",
    "        DisTrans_Uti_Max_temp =[]\n",
    "        for iTransformer in range(Num_of_DisTransformers):\n",
    "            DSSCircuit.SetActiveElement('transformer.hv_f0_lv%s'%iTransformer + '_tx')    \n",
    "            number_phases = int(DSSCircuit.ActiveElement.Properties('phases').Val)\n",
    "            Trans_Capacity = float(DSSCircuit.ActiveCktElement.Properties('kVAs').Val.strip('[').strip(']').split(',')[0])\n",
    "            if number_phases == 3:\n",
    "                P1_LVT = DSSCircuit.ActiveCktElement.Powers[0] + DSSCircuit.ActiveCktElement.Powers[2] + DSSCircuit.ActiveCktElement.Powers[4]\n",
    "                Q1_LVT = DSSCircuit.ActiveCktElement.Powers[1] + DSSCircuit.ActiveCktElement.Powers[3] + DSSCircuit.ActiveCktElement.Powers[5]\n",
    "                S1_LVT = np.sqrt(P1_LVT**2 + Q1_LVT**2)\n",
    "                P2_LVT = DSSCircuit.ActiveCktElement.Powers[8] + DSSCircuit.ActiveCktElement.Powers[10] + DSSCircuit.ActiveCktElement.Powers[12]\n",
    "                Q2_LVT = DSSCircuit.ActiveCktElement.Powers[9] + DSSCircuit.ActiveCktElement.Powers[11] + DSSCircuit.ActiveCktElement.Powers[13]\n",
    "                S2_LVT = np.sqrt(P2_LVT**2 + Q2_LVT**2)   \n",
    "            if number_phases == 1:\n",
    "                P1_LVT = DSSCircuit.ActiveCktElement.Powers[0] + DSSCircuit.ActiveCktElement.Powers[2] + DSSCircuit.ActiveCktElement.Powers[4]\n",
    "                Q1_LVT = DSSCircuit.ActiveCktElement.Powers[1] + DSSCircuit.ActiveCktElement.Powers[3] + DSSCircuit.ActiveCktElement.Powers[5]\n",
    "                S1_LVT = np.sqrt(P1_LVT**2 + Q1_LVT**2)\n",
    "                P2_LVT = DSSCircuit.ActiveCktElement.Powers[6] + DSSCircuit.ActiveCktElement.Powers[8] + DSSCircuit.ActiveCktElement.Powers[10]\n",
    "                Q2_LVT = DSSCircuit.ActiveCktElement.Powers[7] + DSSCircuit.ActiveCktElement.Powers[9] + DSSCircuit.ActiveCktElement.Powers[11]\n",
    "                S2_LVT = np.sqrt(P2_LVT**2 + Q2_LVT**2)\n",
    "            LVT_dct['LVT_%s' %iTransformer].append([P1_LVT, Q1_LVT, S1_LVT, P2_LVT, Q2_LVT, S2_LVT]) \n",
    "            DisTrans_Uti_Max_temp.append(100*S1_LVT/Trans_Capacity)\n",
    "        DisTrans_Uti_Max.append(np.amax(np.array(DisTrans_Uti_Max_temp)))   \n",
    "        \n",
    "            \n",
    "        Line_Utilise_max_temp = []\n",
    "        for iLine in range(Num_of_HVlines):\n",
    "            DSSCircuit.SetActiveElement('line.HV_F0_L%s'%iLine)\n",
    "            I11 = DSSCircuit.ActiveCktElement.CurrentsMagAng[0]\n",
    "            I12 = DSSCircuit.ActiveCktElement.CurrentsMagAng[2]\n",
    "            I13 = DSSCircuit.ActiveCktElement.CurrentsMagAng[4]\n",
    "            NormAmps = DSSCircuit.Lines.NormAmps\n",
    "            I_sum = I11 + I12 + I13\n",
    "            I_max = np.maximum(np.array(I11), np.array(I12), np.array(I13))\n",
    "            LNE_dct['LNE_%s' %iLine].append([I11, I12, I13, NormAmps, 100*I_sum/(NormAmps*3), 100*I_max/NormAmps])\n",
    "            Line_Utilise_max_temp.append(100*I_max/NormAmps)\n",
    "        Line_Utilise_max.append(np.amax(np.array(Line_Utilise_max_temp)))\n",
    "\n",
    "\n",
    "        LDE_temp = np.array(DSSCircuit.AllBusVmagPu)[LDE_bus1_index]\n",
    "        all_loads_voltages.append(LDE_temp)\n",
    "        Non_compliance.append(sum(i > Voltage_max for i in LDE_temp))\n",
    "            \n",
    "\n",
    "        PV_P_temp = []\n",
    "        PV_Q_temp = []\n",
    "        PV_Curtail_temp = []\n",
    "        PV_Potential_temp = []\n",
    "        PV_Curtail_Percent_temp = []                    \n",
    "        PVname = DSSCircuit.PVSystems.AllNames\n",
    "        if penetration_list[iPenetration]>0:\n",
    "            for iPV in range(len(PVname)):\n",
    "                DSSCircuit.SetActiveElement('PVsystem.'+ PVname[iPV])\n",
    "                iPV_status=DSSCircuit.ActiveCktElement.Properties('enabled').Val\n",
    "                if iPV_status=='true':\n",
    "                    PV_size = DSSCircuit.ActiveElement.Properties('Pmpp').Val\n",
    "                    pvoutput = (np.abs(DSSCircuit.ActiveElement.Powers[0]))\n",
    "                    pvpotential = float(PV_size) * PV_potential[iTime]\n",
    "                    pvcurtail = pvpotential - pvoutput\n",
    "                    if pvcurtail < 0.01:\n",
    "                        pvcurtail = 0\n",
    "                    PV_P_temp.append(np.abs(DSSCircuit.ActiveElement.Powers[0]))\n",
    "                    PV_Q_temp.append(DSSCircuit.ActiveElement.Powers[1])\n",
    "                    PV_Potential_temp.append(pvpotential)\n",
    "                    PV_Curtail_temp.append(pvcurtail)\n",
    "                    PV_Curtail_Percent_temp.append(100*(pvcurtail)/(pvpotential + 0.0001))     \n",
    "            PV_P.append(PV_P_temp)\n",
    "            PV_Q.append(PV_Q_temp)\n",
    "            PV_Potential.append(PV_Potential_temp)\n",
    "            PV_Curtail.append(PV_Curtail_temp)\n",
    "            PV_Curtail_Percent.append(PV_Curtail_Percent_temp)\n",
    "        \n",
    "    Penetration_results_dct['penetration=%s'%penetration_list[iPenetration]].append \\\n",
    "                            ([100*np.amax(np.array(total_HVT)[:,2])/HV_Trans_Capacity, \\\n",
    "                              np.amax(np.array(DisTrans_Uti_Max)), \\\n",
    "                              np.amax(np.array(Line_Utilise_max)), \\\n",
    "                              100*np.amax(np.array(Non_compliance))/len(Loadname), \\\n",
    "                              np.sum(PV_Curtail), \\\n",
    "                              np.sum(PV_Potential), \\\n",
    "                              np.sum(PV_Potential, axis=0), \\\n",
    "                              np.sum(PV_P, axis=0)])"
   ]
  },
  {
   "cell_type": "markdown",
   "metadata": {},
   "source": [
    "<a id='004'></a>\n",
    "# Simulation and Results"
   ]
  },
  {
   "cell_type": "markdown",
   "metadata": {},
   "source": [
    "## Set number of iterations\n",
    "Here, you can change the number of iterations for Monte Carlo simulation, and with larger number, more cases are covered then you could observe more general results.\n",
    "- Notice that without inverter control, each iteration takes around **1-min**, while with inverter control enabled, it gonna take around **10-min**."
   ]
  },
  {
   "cell_type": "code",
   "execution_count": null,
   "metadata": {
    "ExecuteTime": {
     "end_time": "2020-10-06T13:17:23.268728Z",
     "start_time": "2020-10-06T13:17:23.091931Z"
    }
   },
   "outputs": [],
   "source": [
    "Num_Run = 2"
   ]
  },
  {
   "cell_type": "markdown",
   "metadata": {},
   "source": [
    "## Create results dictionary\n",
    "The results dictionary is created for each penetration level, and with the tag `penetration`, you are able to look into  particular case for actual outputs. \n",
    "- Notice that you are **NOT** encouraged to change the penetration list at first unless you understand the whole code and you can try to edit it in the sourcecode `Chapter4_MonteCarlo.py` file, otherwise the boxplots will show wrong results."
   ]
  },
  {
   "cell_type": "code",
   "execution_count": null,
   "metadata": {
    "ExecuteTime": {
     "end_time": "2020-10-06T13:17:23.455696Z",
     "start_time": "2020-10-06T13:17:23.270714Z"
    }
   },
   "outputs": [],
   "source": [
    "penetration_list = [0, 20, 40, 60, 80, 100]\n",
    "Penetration_results_dct = {}\n",
    "for iPenetration in range(len(penetration_list)):\n",
    "    Penetration_results_dct['penetration=%s'%penetration_list[iPenetration]]= [] "
   ]
  },
  {
   "cell_type": "markdown",
   "metadata": {},
   "source": [
    "## Monte Carlo simulation\n",
    "This part is the main function of Monte Carlo simulation, you will observe a lot of 'random' things for probabilistic analysis.\n",
    "\n",
    "- **Line [5-13]: First randomization on day profile.** Any combination of load profile and PV profile may happen including the worst condition - the day with lowest load and the day with highest PV. Note: It's a season analysis in Southern Summer, during Day 0-62 and Day 335-365.  \n",
    "\n",
    "- **Line [26]: Second randomization on load profile allocation.** Traceback to [function definition 4.1](#001), first the load phase is randomly chosen (only for 3-phase transformer) then the profile is also randomly selected from the housedata pool.  \n",
    "\n",
    "- **Line [32-33, 35]: Third randomization on PV system allocation.** For each iteration, size of all PV systems are randomly assigned, and only a select of them are activated according to the penetration level. The method to allocate PV systems is introduced in [function definition 4.2](#002).\n",
    "\n",
    "Congratulations! After all these long and tough random assignments, the network is ready now. Just like Deterministic Analysis you did before, the same 30-min resolution power flow analysis is executed (See [function definition 4.3](#003)).  \n",
    "  \n",
    "And the last step in `iRandom` loop is to reset all the PV systems, make sure everytime you start from 0% penetration."
   ]
  },
  {
   "cell_type": "code",
   "execution_count": null,
   "metadata": {
    "ExecuteTime": {
     "end_time": "2020-10-06T13:24:57.351817Z",
     "start_time": "2020-10-06T13:17:23.458698Z"
    }
   },
   "outputs": [],
   "source": [
    "start_time = time.time() \n",
    "\n",
    "\n",
    "for iRandom in range(Num_Run):\n",
    "    np.random.seed(iRandom)\n",
    "    if np.random.randint(low=0, high=3) == 0:\n",
    "        Day_Num = np.random.randint(low=335, high=365)\n",
    "    else:\n",
    "        Day_Num = np.random.randint(low=0, high=62)\n",
    "    if np.random.randint(low=0, high=3) == 0:\n",
    "        Day_Num_PV = np.random.randint(low=335, high=365)\n",
    "    else:\n",
    "        Day_Num_PV = np.random.randint(low=0, high=62) \n",
    "        \n",
    "    print('The run number is %s.' %iRandom)\n",
    "    print('Day number: %s, ' %Day_Num + 'PV Day number: %s.' %Day_Num_PV )\n",
    "    \n",
    "    for ii in range(len(houseDataminutes)):\n",
    "        DSSCircuit.LoadShapes.Name= 'Load_shape_%s'%(ii)\n",
    "        DSSCircuit.LoadShapes.Pmult=houseDataminutes[ii,Day_Num,:].tolist()  \n",
    "    DSSCircuit.LoadShapes.Name='pvshape1'\n",
    "    DSSCircuit.LoadShapes.Pmult=pvDataminutes[Day_Num_PV,:].tolist()    \n",
    "    PV_potential =  pvDataminutes[Day_Num_PV,:] \n",
    "\n",
    "\n",
    "    Function_LoadProfileAllocation()\n",
    "\n",
    "\n",
    "    PV_allocation = [] \n",
    "    PVname = DSSCircuit.PVSystems.AllNames\n",
    "    np.random.seed(iRandom)\n",
    "    for iPV in range(len(PVname)):\n",
    "        PV_allocation.append(np.random.choice([2.5,3.5,5.5,8], p=[0.08,0.24,0.52,0.16]))        \n",
    "    random.seed(iRandom)\n",
    "    for iPenetration in range(len(penetration_list)):     \n",
    "        Function_PVAllocation()\n",
    "        DSSText.Command = 'Set ControlMode=statatic' \n",
    "        DSSText.Command = 'Reset'   \n",
    "        DSSText.Command = 'Set Mode=daily number=1 stepsize=%s' %Time_Resolution +'m' \n",
    "        Function_iTimeSimulation()\n",
    "        \n",
    "\n",
    "    for iPV in range(len(PVname)): \n",
    "        DSSCircuit.SetActiveElement('PVSystem.'+str(PVname[iPV]))\n",
    "        DSSCircuit.ActiveElement.Properties('enabled').Val='false'\n",
    "\n",
    "        \n",
    "print(\"Monte Carlo simulation time (in seconds) = \", time.time()-start_time) "
   ]
  },
  {
   "cell_type": "markdown",
   "metadata": {},
   "source": [
    "# Plots\n",
    "By retrieving the results from `Penetration_results_dct`, you can now draw box plots and assess the network performance from different aspects. Fig.5 and Fig.6 are for PV curtailment, so if you play with the tutorial in a non-inverter control mode, you can only observe no curtailment for granted.  \n",
    "  \n",
    "- Note: The results are not representative, becasue `Num_Run = 10` is not big enough. We set a small number here to save the simulation time. The document provided in the same folder [Simulation_results_of_different_Num_Run.docx](Simulation_results_of_different_Num_Run.docx) shows the  results comparison of **10, 30, 100 and 200** times simulation. The number of iteration is a key factor of Monte Carlo simulation."
   ]
  },
  {
   "cell_type": "markdown",
   "metadata": {},
   "source": [
    "## Fig.1: 66/22 kV transformer utilization level"
   ]
  },
  {
   "cell_type": "code",
   "execution_count": null,
   "metadata": {
    "ExecuteTime": {
     "end_time": "2020-10-06T13:24:57.704677Z",
     "start_time": "2020-10-06T13:24:57.353817Z"
    },
    "scrolled": true
   },
   "outputs": [],
   "source": [
    "fig = plt.figure(figsize=(5,5))\n",
    "plt.rc('font', family='Arial')\n",
    "plt.rc('font', size=10)\n",
    "plt.rc('figure', figsize=(5,5))\n",
    "S_HVT_Penetration = []\n",
    "for iPenetration in range(len(penetration_list)):\n",
    "    S_HVT_Penetration_temp = np.array(Penetration_results_dct['penetration=%s'%penetration_list[iPenetration]])[:,0]\n",
    "    S_HVT_Penetration.append(S_HVT_Penetration_temp)\n",
    "plt.boxplot(S_HVT_Penetration)\n",
    "plt.ylim([0.00, 100])\n",
    "plt.legend(['Utilisation of HV transformer'])\n",
    "plt.ylabel('Utilisation pecentage')\n",
    "plt.xlabel('Penetration')\n",
    "plt.xticks([1, 2, 3, 4, 5, 6], ['0', '20', '40', '60', '80', '100',])\n",
    "plt.show()\n",
    "plt.close()"
   ]
  },
  {
   "cell_type": "markdown",
   "metadata": {},
   "source": [
    "## Fig.2: Distribution transformer maximum utilization level "
   ]
  },
  {
   "cell_type": "code",
   "execution_count": null,
   "metadata": {
    "ExecuteTime": {
     "end_time": "2020-10-06T13:24:57.997887Z",
     "start_time": "2020-10-06T13:24:57.708681Z"
    },
    "scrolled": true
   },
   "outputs": [],
   "source": [
    "fig = plt.figure(figsize=(5,5))\n",
    "plt.rc('font', family='Arial')\n",
    "plt.rc('font', size=10)\n",
    "plt.rc('figure', figsize=(5,5))\n",
    "S_LVT_Penetration = []\n",
    "for iPenetration in range(len(penetration_list)):\n",
    "    S_LVT_Penetration_temp = np.array(Penetration_results_dct['penetration=%s'%penetration_list[iPenetration]])[:,1]\n",
    "    S_LVT_Penetration.append(S_LVT_Penetration_temp)\n",
    "plt.boxplot(S_LVT_Penetration)\n",
    "plt.ylim([0.00, 250])\n",
    "plt.legend(['Utilisation of Dist. transformer'])\n",
    "plt.ylabel('Utilisation pecentage')\n",
    "plt.xlabel('Penetration')\n",
    "plt.xticks([1, 2, 3, 4, 5, 6], ['0', '20', '40', '60', '80', '100',])\n",
    "plt.show()\n",
    "plt.close()"
   ]
  },
  {
   "cell_type": "markdown",
   "metadata": {},
   "source": [
    "## Fig.3: Utilisation level for 22kV cables"
   ]
  },
  {
   "cell_type": "code",
   "execution_count": null,
   "metadata": {
    "ExecuteTime": {
     "end_time": "2020-10-06T13:24:58.272082Z",
     "start_time": "2020-10-06T13:24:57.999889Z"
    },
    "scrolled": true
   },
   "outputs": [],
   "source": [
    "fig = plt.figure(figsize=(5,5))\n",
    "plt.rc('font', family='Arial')\n",
    "plt.rc('font', size=10)\n",
    "plt.rc('figure', figsize=(5,5))\n",
    "Line_Util_Penetration = []\n",
    "for iPenetration in range(len(penetration_list)):\n",
    "    Line_Util_Penetration_temp = np.array(Penetration_results_dct['penetration=%s'%penetration_list[iPenetration]])[:,2]\n",
    "    Line_Util_Penetration.append(Line_Util_Penetration_temp)\n",
    "plt.boxplot(Line_Util_Penetration)\n",
    "plt.ylim([0.00, 120])\n",
    "plt.legend(['Line utilisation'])\n",
    "plt.ylabel('Utilisation pecentage')\n",
    "plt.xlabel('Penetration')\n",
    "plt.xticks([1, 2, 3, 4, 5, 6], ['0', '20', '40', '60', '80', '100',])\n",
    "plt.show()\n",
    "plt.close()"
   ]
  },
  {
   "cell_type": "markdown",
   "metadata": {},
   "source": [
    "## Fig.4: Percentage of customers with voltage issues"
   ]
  },
  {
   "cell_type": "code",
   "execution_count": null,
   "metadata": {
    "ExecuteTime": {
     "end_time": "2020-10-06T13:24:58.555299Z",
     "start_time": "2020-10-06T13:24:58.274084Z"
    }
   },
   "outputs": [],
   "source": [
    "fig = plt.figure(figsize=(5,5))\n",
    "plt.rc('font', family='Arial')\n",
    "plt.rc('font', size=10)\n",
    "plt.rc('figure', figsize=(5,5))\n",
    "Load_nonCompliance = []\n",
    "for iPenetration in range(len(penetration_list)):\n",
    "    Load_nonCompliance_temp = np.array(Penetration_results_dct['penetration=%s'%penetration_list[iPenetration]])[:,3]\n",
    "    Load_nonCompliance.append(Load_nonCompliance_temp )\n",
    "plt.boxplot(Load_nonCompliance)\n",
    "plt.legend(['Non_compliance'])\n",
    "plt.ylabel('Non_compliance pecentage')\n",
    "plt.xlabel('Penetration')\n",
    "plt.xticks([1, 2, 3, 4, 5, 6], ['0', '20', '40', '60', '80', '100',])\n",
    "plt.show()\n",
    "plt.close()"
   ]
  },
  {
   "cell_type": "markdown",
   "metadata": {},
   "source": [
    "## Fig.5: PV Curtailed Power in kW"
   ]
  },
  {
   "cell_type": "code",
   "execution_count": null,
   "metadata": {
    "ExecuteTime": {
     "end_time": "2020-10-06T13:24:58.839483Z",
     "start_time": "2020-10-06T13:24:58.557301Z"
    }
   },
   "outputs": [],
   "source": [
    "fig = plt.figure(figsize=(5,5))\n",
    "plt.rc('font', family='Arial')\n",
    "plt.rc('font', size=10)\n",
    "plt.rc('figure', figsize=(5,5))\n",
    "PV_cutail = []\n",
    "for iPenetration in range(len(penetration_list)):\n",
    "    PV_cutail_temp = np.array(Penetration_results_dct['penetration=%s'%penetration_list[iPenetration]])[:,4]\n",
    "    PV_cutail.append(PV_cutail_temp )\n",
    "plt.boxplot(PV_cutail)\n",
    "plt.legend(['PV Curtailed Power'])\n",
    "plt.ylabel('Curtailed (kW)')\n",
    "plt.xlabel('Penetration')\n",
    "plt.xticks([1, 2, 3, 4, 5, 6], ['0', '20', '40', '60', '80', '100',])\n",
    "plt.show()\n",
    "plt.close()"
   ]
  },
  {
   "cell_type": "markdown",
   "metadata": {},
   "source": [
    "## Fig.6: PV Curtailed Power in Percentage"
   ]
  },
  {
   "cell_type": "code",
   "execution_count": null,
   "metadata": {
    "ExecuteTime": {
     "end_time": "2020-10-06T13:24:59.121697Z",
     "start_time": "2020-10-06T13:24:58.842485Z"
    }
   },
   "outputs": [],
   "source": [
    "fig = plt.figure(figsize=(5,5))\n",
    "plt.rc('font', family='Arial')\n",
    "plt.rc('font', size=10)\n",
    "plt.rc('figure', figsize=(5,5))\n",
    "PV_percent = []\n",
    "for iPenetration in range(len(penetration_list)):\n",
    "    PV_percent_temp = 100*np.array(Penetration_results_dct['penetration=%s'%penetration_list[iPenetration]])[:,4] / (1+np.array(Penetration_results_dct['penetration=%s'%penetration_list[iPenetration]])[:,5])\n",
    "    PV_percent.append(PV_percent_temp )\n",
    "plt.boxplot(PV_percent)\n",
    "plt.legend(['PV Curtailed Percent'])\n",
    "plt.ylabel('Curtailed (%)')\n",
    "plt.xlabel('Penetration')\n",
    "plt.xticks([1, 2, 3, 4, 5, 6], ['0', '20', '40', '60', '80', '100',])\n",
    "plt.show()\n",
    "plt.close()  "
   ]
  }
 ],
 "metadata": {
  "kernelspec": {
   "display_name": "Python 3 (ipykernel)",
   "language": "python",
   "name": "python3"
  },
  "language_info": {
   "codemirror_mode": {
    "name": "ipython",
    "version": 3
   },
   "file_extension": ".py",
   "mimetype": "text/x-python",
   "name": "python",
   "nbconvert_exporter": "python",
   "pygments_lexer": "ipython3",
   "version": "3.9.13"
  },
  "toc": {
   "base_numbering": 1,
   "nav_menu": {},
   "number_sections": true,
   "sideBar": true,
   "skip_h1_title": false,
   "title_cell": "Table of Contents",
   "title_sidebar": "Contents",
   "toc_cell": false,
   "toc_position": {
    "height": "calc(100% - 180px)",
    "left": "10px",
    "top": "150px",
    "width": "315.625px"
   },
   "toc_section_display": true,
   "toc_window_display": false
  },
  "varInspector": {
   "cols": {
    "lenName": 16,
    "lenType": 16,
    "lenVar": 40
   },
   "kernels_config": {
    "python": {
     "delete_cmd_postfix": "",
     "delete_cmd_prefix": "del ",
     "library": "var_list.py",
     "varRefreshCmd": "print(var_dic_list())"
    },
    "r": {
     "delete_cmd_postfix": ") ",
     "delete_cmd_prefix": "rm(",
     "library": "var_list.r",
     "varRefreshCmd": "cat(var_dic_list()) "
    }
   },
   "types_to_exclude": [
    "module",
    "function",
    "builtin_function_or_method",
    "instance",
    "_Feature"
   ],
   "window_display": false
  }
 },
 "nbformat": 4,
 "nbformat_minor": 4
}
